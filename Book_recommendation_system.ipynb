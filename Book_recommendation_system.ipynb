{
  "nbformat": 4,
  "nbformat_minor": 0,
  "metadata": {
    "colab": {
      "name": "Book recommendation system.ipynb",
      "provenance": [],
      "mount_file_id": "https://github.com/saurabhdaund76/Book-Recommendation-System/blob/main/Book_recommendation_system.ipynb",
      "authorship_tag": "ABX9TyMl2iwbl/+PJh6IDpTzzqZ2",
      "include_colab_link": true
    },
    "kernelspec": {
      "name": "python3",
      "display_name": "Python 3"
    },
    "language_info": {
      "name": "python"
    }
  },
  "cells": [
    {
      "cell_type": "markdown",
      "metadata": {
        "id": "view-in-github",
        "colab_type": "text"
      },
      "source": [
        "<a href=\"https://colab.research.google.com/github/saurabhdaund76/Book-Recommendation-System/blob/main/Book_recommendation_system.ipynb\" target=\"_parent\"><img src=\"https://colab.research.google.com/assets/colab-badge.svg\" alt=\"Open In Colab\"/></a>"
      ]
    },
    {
      "cell_type": "code",
      "metadata": {
        "id": "yF1SD8xi9Jvd"
      },
      "source": [
        "import pandas as pd\n",
        "import numpy as np\n",
        "import matplotlib.pyplot as plt\n",
        "import seaborn as sns"
      ],
      "execution_count": 47,
      "outputs": []
    },
    {
      "cell_type": "code",
      "metadata": {
        "id": "RJHR91rw-E4L"
      },
      "source": [
        "# reading user csv\n",
        "user_df = pd.read_csv('/content/drive/MyDrive/ML projects/Users.csv')"
      ],
      "execution_count": 2,
      "outputs": []
    },
    {
      "cell_type": "code",
      "metadata": {
        "id": "V9JJLM4D-j98"
      },
      "source": [
        "# reading ratings csv\n",
        "ratings_df = pd.read_csv('/content/drive/MyDrive/ML projects/Ratings.csv')"
      ],
      "execution_count": 3,
      "outputs": []
    },
    {
      "cell_type": "code",
      "metadata": {
        "colab": {
          "base_uri": "https://localhost:8080/"
        },
        "id": "i7OLMb4W-rSt",
        "outputId": "ec1ba1ce-d6b3-4012-be90-a0635374d68d"
      },
      "source": [
        "# reading books csv\n",
        "books_df = pd.read_csv('/content/drive/MyDrive/ML projects/Books.csv')"
      ],
      "execution_count": 4,
      "outputs": [
        {
          "output_type": "stream",
          "name": "stderr",
          "text": [
            "/usr/local/lib/python3.7/dist-packages/IPython/core/interactiveshell.py:2718: DtypeWarning: Columns (3) have mixed types.Specify dtype option on import or set low_memory=False.\n",
            "  interactivity=interactivity, compiler=compiler, result=result)\n"
          ]
        }
      ]
    },
    {
      "cell_type": "code",
      "metadata": {
        "colab": {
          "base_uri": "https://localhost:8080/"
        },
        "id": "enxBusq6-vci",
        "outputId": "d28a3ba7-81bf-476d-e301-58772142a9ec"
      },
      "source": [
        "# shape of all df\n",
        "\n",
        "print(ratings_df.shape)\n",
        "print(user_df.shape)\n",
        "print(books_df.shape)"
      ],
      "execution_count": 5,
      "outputs": [
        {
          "output_type": "stream",
          "name": "stdout",
          "text": [
            "(1149780, 3)\n",
            "(278858, 3)\n",
            "(271360, 8)\n"
          ]
        }
      ]
    },
    {
      "cell_type": "code",
      "metadata": {
        "colab": {
          "base_uri": "https://localhost:8080/",
          "height": 206
        },
        "id": "DgvHLRrz-843",
        "outputId": "2316d2f7-a421-4284-92e5-4fc81c94c92a"
      },
      "source": [
        "ratings_df.head()"
      ],
      "execution_count": 6,
      "outputs": [
        {
          "output_type": "execute_result",
          "data": {
            "text/html": [
              "<div>\n",
              "<style scoped>\n",
              "    .dataframe tbody tr th:only-of-type {\n",
              "        vertical-align: middle;\n",
              "    }\n",
              "\n",
              "    .dataframe tbody tr th {\n",
              "        vertical-align: top;\n",
              "    }\n",
              "\n",
              "    .dataframe thead th {\n",
              "        text-align: right;\n",
              "    }\n",
              "</style>\n",
              "<table border=\"1\" class=\"dataframe\">\n",
              "  <thead>\n",
              "    <tr style=\"text-align: right;\">\n",
              "      <th></th>\n",
              "      <th>User-ID</th>\n",
              "      <th>ISBN</th>\n",
              "      <th>Book-Rating</th>\n",
              "    </tr>\n",
              "  </thead>\n",
              "  <tbody>\n",
              "    <tr>\n",
              "      <th>0</th>\n",
              "      <td>276725</td>\n",
              "      <td>034545104X</td>\n",
              "      <td>0</td>\n",
              "    </tr>\n",
              "    <tr>\n",
              "      <th>1</th>\n",
              "      <td>276726</td>\n",
              "      <td>0155061224</td>\n",
              "      <td>5</td>\n",
              "    </tr>\n",
              "    <tr>\n",
              "      <th>2</th>\n",
              "      <td>276727</td>\n",
              "      <td>0446520802</td>\n",
              "      <td>0</td>\n",
              "    </tr>\n",
              "    <tr>\n",
              "      <th>3</th>\n",
              "      <td>276729</td>\n",
              "      <td>052165615X</td>\n",
              "      <td>3</td>\n",
              "    </tr>\n",
              "    <tr>\n",
              "      <th>4</th>\n",
              "      <td>276729</td>\n",
              "      <td>0521795028</td>\n",
              "      <td>6</td>\n",
              "    </tr>\n",
              "  </tbody>\n",
              "</table>\n",
              "</div>"
            ],
            "text/plain": [
              "   User-ID        ISBN  Book-Rating\n",
              "0   276725  034545104X            0\n",
              "1   276726  0155061224            5\n",
              "2   276727  0446520802            0\n",
              "3   276729  052165615X            3\n",
              "4   276729  0521795028            6"
            ]
          },
          "metadata": {},
          "execution_count": 6
        }
      ]
    },
    {
      "cell_type": "code",
      "metadata": {
        "colab": {
          "base_uri": "https://localhost:8080/"
        },
        "id": "UK8MIIPQ_CME",
        "outputId": "6b0efbeb-34f2-4b9c-fc72-837b9fa8f206"
      },
      "source": [
        "ratings_df['User-ID'].value_counts()"
      ],
      "execution_count": 7,
      "outputs": [
        {
          "output_type": "execute_result",
          "data": {
            "text/plain": [
              "11676     13602\n",
              "198711     7550\n",
              "153662     6109\n",
              "98391      5891\n",
              "35859      5850\n",
              "          ...  \n",
              "158698        1\n",
              "17920         1\n",
              "277135        1\n",
              "275086        1\n",
              "187812        1\n",
              "Name: User-ID, Length: 105283, dtype: int64"
            ]
          },
          "metadata": {},
          "execution_count": 7
        }
      ]
    },
    {
      "cell_type": "code",
      "metadata": {
        "colab": {
          "base_uri": "https://localhost:8080/",
          "height": 423
        },
        "id": "C-B99q4MA_2t",
        "outputId": "ec85ba7b-bc38-4243-892b-1c3704c45f4c"
      },
      "source": [
        "ratings_df.groupby('User-ID')['Book-Rating'].sum().reset_index()"
      ],
      "execution_count": 8,
      "outputs": [
        {
          "output_type": "execute_result",
          "data": {
            "text/html": [
              "<div>\n",
              "<style scoped>\n",
              "    .dataframe tbody tr th:only-of-type {\n",
              "        vertical-align: middle;\n",
              "    }\n",
              "\n",
              "    .dataframe tbody tr th {\n",
              "        vertical-align: top;\n",
              "    }\n",
              "\n",
              "    .dataframe thead th {\n",
              "        text-align: right;\n",
              "    }\n",
              "</style>\n",
              "<table border=\"1\" class=\"dataframe\">\n",
              "  <thead>\n",
              "    <tr style=\"text-align: right;\">\n",
              "      <th></th>\n",
              "      <th>User-ID</th>\n",
              "      <th>Book-Rating</th>\n",
              "    </tr>\n",
              "  </thead>\n",
              "  <tbody>\n",
              "    <tr>\n",
              "      <th>0</th>\n",
              "      <td>2</td>\n",
              "      <td>0</td>\n",
              "    </tr>\n",
              "    <tr>\n",
              "      <th>1</th>\n",
              "      <td>7</td>\n",
              "      <td>0</td>\n",
              "    </tr>\n",
              "    <tr>\n",
              "      <th>2</th>\n",
              "      <td>8</td>\n",
              "      <td>39</td>\n",
              "    </tr>\n",
              "    <tr>\n",
              "      <th>3</th>\n",
              "      <td>9</td>\n",
              "      <td>6</td>\n",
              "    </tr>\n",
              "    <tr>\n",
              "      <th>4</th>\n",
              "      <td>10</td>\n",
              "      <td>6</td>\n",
              "    </tr>\n",
              "    <tr>\n",
              "      <th>...</th>\n",
              "      <td>...</td>\n",
              "      <td>...</td>\n",
              "    </tr>\n",
              "    <tr>\n",
              "      <th>105278</th>\n",
              "      <td>278846</td>\n",
              "      <td>8</td>\n",
              "    </tr>\n",
              "    <tr>\n",
              "      <th>105279</th>\n",
              "      <td>278849</td>\n",
              "      <td>9</td>\n",
              "    </tr>\n",
              "    <tr>\n",
              "      <th>105280</th>\n",
              "      <td>278851</td>\n",
              "      <td>91</td>\n",
              "    </tr>\n",
              "    <tr>\n",
              "      <th>105281</th>\n",
              "      <td>278852</td>\n",
              "      <td>8</td>\n",
              "    </tr>\n",
              "    <tr>\n",
              "      <th>105282</th>\n",
              "      <td>278854</td>\n",
              "      <td>42</td>\n",
              "    </tr>\n",
              "  </tbody>\n",
              "</table>\n",
              "<p>105283 rows × 2 columns</p>\n",
              "</div>"
            ],
            "text/plain": [
              "        User-ID  Book-Rating\n",
              "0             2            0\n",
              "1             7            0\n",
              "2             8           39\n",
              "3             9            6\n",
              "4            10            6\n",
              "...         ...          ...\n",
              "105278   278846            8\n",
              "105279   278849            9\n",
              "105280   278851           91\n",
              "105281   278852            8\n",
              "105282   278854           42\n",
              "\n",
              "[105283 rows x 2 columns]"
            ]
          },
          "metadata": {},
          "execution_count": 8
        }
      ]
    },
    {
      "cell_type": "code",
      "metadata": {
        "colab": {
          "base_uri": "https://localhost:8080/",
          "height": 434
        },
        "id": "jBxhH_cuCgXb",
        "outputId": "0e7bc435-9c9b-4d48-a177-cec7d19ba863"
      },
      "source": [
        "books_df.head()"
      ],
      "execution_count": 9,
      "outputs": [
        {
          "output_type": "execute_result",
          "data": {
            "text/html": [
              "<div>\n",
              "<style scoped>\n",
              "    .dataframe tbody tr th:only-of-type {\n",
              "        vertical-align: middle;\n",
              "    }\n",
              "\n",
              "    .dataframe tbody tr th {\n",
              "        vertical-align: top;\n",
              "    }\n",
              "\n",
              "    .dataframe thead th {\n",
              "        text-align: right;\n",
              "    }\n",
              "</style>\n",
              "<table border=\"1\" class=\"dataframe\">\n",
              "  <thead>\n",
              "    <tr style=\"text-align: right;\">\n",
              "      <th></th>\n",
              "      <th>ISBN</th>\n",
              "      <th>Book-Title</th>\n",
              "      <th>Book-Author</th>\n",
              "      <th>Year-Of-Publication</th>\n",
              "      <th>Publisher</th>\n",
              "      <th>Image-URL-S</th>\n",
              "      <th>Image-URL-M</th>\n",
              "      <th>Image-URL-L</th>\n",
              "    </tr>\n",
              "  </thead>\n",
              "  <tbody>\n",
              "    <tr>\n",
              "      <th>0</th>\n",
              "      <td>0195153448</td>\n",
              "      <td>Classical Mythology</td>\n",
              "      <td>Mark P. O. Morford</td>\n",
              "      <td>2002</td>\n",
              "      <td>Oxford University Press</td>\n",
              "      <td>http://images.amazon.com/images/P/0195153448.0...</td>\n",
              "      <td>http://images.amazon.com/images/P/0195153448.0...</td>\n",
              "      <td>http://images.amazon.com/images/P/0195153448.0...</td>\n",
              "    </tr>\n",
              "    <tr>\n",
              "      <th>1</th>\n",
              "      <td>0002005018</td>\n",
              "      <td>Clara Callan</td>\n",
              "      <td>Richard Bruce Wright</td>\n",
              "      <td>2001</td>\n",
              "      <td>HarperFlamingo Canada</td>\n",
              "      <td>http://images.amazon.com/images/P/0002005018.0...</td>\n",
              "      <td>http://images.amazon.com/images/P/0002005018.0...</td>\n",
              "      <td>http://images.amazon.com/images/P/0002005018.0...</td>\n",
              "    </tr>\n",
              "    <tr>\n",
              "      <th>2</th>\n",
              "      <td>0060973129</td>\n",
              "      <td>Decision in Normandy</td>\n",
              "      <td>Carlo D'Este</td>\n",
              "      <td>1991</td>\n",
              "      <td>HarperPerennial</td>\n",
              "      <td>http://images.amazon.com/images/P/0060973129.0...</td>\n",
              "      <td>http://images.amazon.com/images/P/0060973129.0...</td>\n",
              "      <td>http://images.amazon.com/images/P/0060973129.0...</td>\n",
              "    </tr>\n",
              "    <tr>\n",
              "      <th>3</th>\n",
              "      <td>0374157065</td>\n",
              "      <td>Flu: The Story of the Great Influenza Pandemic...</td>\n",
              "      <td>Gina Bari Kolata</td>\n",
              "      <td>1999</td>\n",
              "      <td>Farrar Straus Giroux</td>\n",
              "      <td>http://images.amazon.com/images/P/0374157065.0...</td>\n",
              "      <td>http://images.amazon.com/images/P/0374157065.0...</td>\n",
              "      <td>http://images.amazon.com/images/P/0374157065.0...</td>\n",
              "    </tr>\n",
              "    <tr>\n",
              "      <th>4</th>\n",
              "      <td>0393045218</td>\n",
              "      <td>The Mummies of Urumchi</td>\n",
              "      <td>E. J. W. Barber</td>\n",
              "      <td>1999</td>\n",
              "      <td>W. W. Norton &amp;amp; Company</td>\n",
              "      <td>http://images.amazon.com/images/P/0393045218.0...</td>\n",
              "      <td>http://images.amazon.com/images/P/0393045218.0...</td>\n",
              "      <td>http://images.amazon.com/images/P/0393045218.0...</td>\n",
              "    </tr>\n",
              "  </tbody>\n",
              "</table>\n",
              "</div>"
            ],
            "text/plain": [
              "         ISBN  ...                                        Image-URL-L\n",
              "0  0195153448  ...  http://images.amazon.com/images/P/0195153448.0...\n",
              "1  0002005018  ...  http://images.amazon.com/images/P/0002005018.0...\n",
              "2  0060973129  ...  http://images.amazon.com/images/P/0060973129.0...\n",
              "3  0374157065  ...  http://images.amazon.com/images/P/0374157065.0...\n",
              "4  0393045218  ...  http://images.amazon.com/images/P/0393045218.0...\n",
              "\n",
              "[5 rows x 8 columns]"
            ]
          },
          "metadata": {},
          "execution_count": 9
        }
      ]
    },
    {
      "cell_type": "markdown",
      "metadata": {
        "id": "qc6Sit_0a9Ca"
      },
      "source": [
        "so here we can see we have some extra columns which are not required like image url s m l so we will drop them"
      ]
    },
    {
      "cell_type": "code",
      "metadata": {
        "id": "-IACumVLabKi"
      },
      "source": [
        "books_df = books_df.drop(['Image-URL-S','Image-URL-M','Image-URL-L'], axis=1)"
      ],
      "execution_count": 10,
      "outputs": []
    },
    {
      "cell_type": "code",
      "metadata": {
        "colab": {
          "base_uri": "https://localhost:8080/",
          "height": 206
        },
        "id": "kGRJqdxhbo2F",
        "outputId": "3fdf30d9-ceb3-42d1-8263-74caabba49bb"
      },
      "source": [
        "books_df.head()"
      ],
      "execution_count": 11,
      "outputs": [
        {
          "output_type": "execute_result",
          "data": {
            "text/html": [
              "<div>\n",
              "<style scoped>\n",
              "    .dataframe tbody tr th:only-of-type {\n",
              "        vertical-align: middle;\n",
              "    }\n",
              "\n",
              "    .dataframe tbody tr th {\n",
              "        vertical-align: top;\n",
              "    }\n",
              "\n",
              "    .dataframe thead th {\n",
              "        text-align: right;\n",
              "    }\n",
              "</style>\n",
              "<table border=\"1\" class=\"dataframe\">\n",
              "  <thead>\n",
              "    <tr style=\"text-align: right;\">\n",
              "      <th></th>\n",
              "      <th>ISBN</th>\n",
              "      <th>Book-Title</th>\n",
              "      <th>Book-Author</th>\n",
              "      <th>Year-Of-Publication</th>\n",
              "      <th>Publisher</th>\n",
              "    </tr>\n",
              "  </thead>\n",
              "  <tbody>\n",
              "    <tr>\n",
              "      <th>0</th>\n",
              "      <td>0195153448</td>\n",
              "      <td>Classical Mythology</td>\n",
              "      <td>Mark P. O. Morford</td>\n",
              "      <td>2002</td>\n",
              "      <td>Oxford University Press</td>\n",
              "    </tr>\n",
              "    <tr>\n",
              "      <th>1</th>\n",
              "      <td>0002005018</td>\n",
              "      <td>Clara Callan</td>\n",
              "      <td>Richard Bruce Wright</td>\n",
              "      <td>2001</td>\n",
              "      <td>HarperFlamingo Canada</td>\n",
              "    </tr>\n",
              "    <tr>\n",
              "      <th>2</th>\n",
              "      <td>0060973129</td>\n",
              "      <td>Decision in Normandy</td>\n",
              "      <td>Carlo D'Este</td>\n",
              "      <td>1991</td>\n",
              "      <td>HarperPerennial</td>\n",
              "    </tr>\n",
              "    <tr>\n",
              "      <th>3</th>\n",
              "      <td>0374157065</td>\n",
              "      <td>Flu: The Story of the Great Influenza Pandemic...</td>\n",
              "      <td>Gina Bari Kolata</td>\n",
              "      <td>1999</td>\n",
              "      <td>Farrar Straus Giroux</td>\n",
              "    </tr>\n",
              "    <tr>\n",
              "      <th>4</th>\n",
              "      <td>0393045218</td>\n",
              "      <td>The Mummies of Urumchi</td>\n",
              "      <td>E. J. W. Barber</td>\n",
              "      <td>1999</td>\n",
              "      <td>W. W. Norton &amp;amp; Company</td>\n",
              "    </tr>\n",
              "  </tbody>\n",
              "</table>\n",
              "</div>"
            ],
            "text/plain": [
              "         ISBN  ...                   Publisher\n",
              "0  0195153448  ...     Oxford University Press\n",
              "1  0002005018  ...       HarperFlamingo Canada\n",
              "2  0060973129  ...             HarperPerennial\n",
              "3  0374157065  ...        Farrar Straus Giroux\n",
              "4  0393045218  ...  W. W. Norton &amp; Company\n",
              "\n",
              "[5 rows x 5 columns]"
            ]
          },
          "metadata": {},
          "execution_count": 11
        }
      ]
    },
    {
      "cell_type": "markdown",
      "metadata": {
        "id": "ezboYtl3eM05"
      },
      "source": [
        "Data preprocessing "
      ]
    },
    {
      "cell_type": "code",
      "metadata": {
        "colab": {
          "base_uri": "https://localhost:8080/"
        },
        "id": "nuIkEDY6cAAp",
        "outputId": "199eca04-0ffb-4239-f8a0-7afe8e65f568"
      },
      "source": [
        "books_df.isnull().sum()"
      ],
      "execution_count": 12,
      "outputs": [
        {
          "output_type": "execute_result",
          "data": {
            "text/plain": [
              "ISBN                   0\n",
              "Book-Title             0\n",
              "Book-Author            1\n",
              "Year-Of-Publication    0\n",
              "Publisher              2\n",
              "dtype: int64"
            ]
          },
          "metadata": {},
          "execution_count": 12
        }
      ]
    },
    {
      "cell_type": "code",
      "metadata": {
        "colab": {
          "base_uri": "https://localhost:8080/"
        },
        "id": "rJkIgMIneUC8",
        "outputId": "4954a61f-a07a-4337-e963-829d4f07c664"
      },
      "source": [
        "user_df.isnull().sum()"
      ],
      "execution_count": 13,
      "outputs": [
        {
          "output_type": "execute_result",
          "data": {
            "text/plain": [
              "User-ID          0\n",
              "Location         0\n",
              "Age         110762\n",
              "dtype: int64"
            ]
          },
          "metadata": {},
          "execution_count": 13
        }
      ]
    },
    {
      "cell_type": "code",
      "metadata": {
        "colab": {
          "base_uri": "https://localhost:8080/"
        },
        "id": "MIt2jadveXlb",
        "outputId": "a12fbc16-23c6-488e-de31-3443ba3a87b1"
      },
      "source": [
        "ratings_df.isnull().sum()"
      ],
      "execution_count": 14,
      "outputs": [
        {
          "output_type": "execute_result",
          "data": {
            "text/plain": [
              "User-ID        0\n",
              "ISBN           0\n",
              "Book-Rating    0\n",
              "dtype: int64"
            ]
          },
          "metadata": {},
          "execution_count": 14
        }
      ]
    },
    {
      "cell_type": "markdown",
      "metadata": {
        "id": "8CkIy_7MeiBi"
      },
      "source": [
        "as we can see we only have null values in books df and user df"
      ]
    },
    {
      "cell_type": "code",
      "metadata": {
        "id": "_J8QPc2UegHb"
      },
      "source": [
        "# we deleted the cells with empty rows\n",
        "books_df = books_df.dropna(axis=0)"
      ],
      "execution_count": 15,
      "outputs": []
    },
    {
      "cell_type": "code",
      "metadata": {
        "colab": {
          "base_uri": "https://localhost:8080/"
        },
        "id": "AxhXf_V4ezon",
        "outputId": "13f3cf44-71ca-407a-e315-72c01d58161a"
      },
      "source": [
        "books_df.info()"
      ],
      "execution_count": 16,
      "outputs": [
        {
          "output_type": "stream",
          "name": "stdout",
          "text": [
            "<class 'pandas.core.frame.DataFrame'>\n",
            "Int64Index: 271357 entries, 0 to 271359\n",
            "Data columns (total 5 columns):\n",
            " #   Column               Non-Null Count   Dtype \n",
            "---  ------               --------------   ----- \n",
            " 0   ISBN                 271357 non-null  object\n",
            " 1   Book-Title           271357 non-null  object\n",
            " 2   Book-Author          271357 non-null  object\n",
            " 3   Year-Of-Publication  271357 non-null  object\n",
            " 4   Publisher            271357 non-null  object\n",
            "dtypes: object(5)\n",
            "memory usage: 12.4+ MB\n"
          ]
        }
      ]
    },
    {
      "cell_type": "markdown",
      "metadata": {
        "id": "bKzrnMdye_QA"
      },
      "source": [
        "as we can see there are no null values"
      ]
    },
    {
      "cell_type": "markdown",
      "metadata": {
        "id": "-l3K3iNOgM7I"
      },
      "source": [
        "As we can see year of publication is object type it should be numeric type"
      ]
    },
    {
      "cell_type": "code",
      "metadata": {
        "colab": {
          "base_uri": "https://localhost:8080/"
        },
        "id": "z4LAAmrwhXen",
        "outputId": "5101b3dd-f7b6-4d60-824c-2f01fbfd7292"
      },
      "source": [
        "books_df['Year-Of-Publication'].astype"
      ],
      "execution_count": 17,
      "outputs": [
        {
          "output_type": "execute_result",
          "data": {
            "text/plain": [
              "<bound method NDFrame.astype of 0         2002\n",
              "1         2001\n",
              "2         1991\n",
              "3         1999\n",
              "4         1999\n",
              "          ... \n",
              "271355    1988\n",
              "271356    1991\n",
              "271357    2004\n",
              "271358    1996\n",
              "271359    2000\n",
              "Name: Year-Of-Publication, Length: 271357, dtype: object>"
            ]
          },
          "metadata": {},
          "execution_count": 17
        }
      ]
    },
    {
      "cell_type": "code",
      "metadata": {
        "colab": {
          "base_uri": "https://localhost:8080/"
        },
        "id": "VfB8nP8kq8bj",
        "outputId": "67af6a4a-7885-4f6b-89f5-451b5996f221"
      },
      "source": [
        "books_df['Year-Of-Publication'].unique()\n"
      ],
      "execution_count": 18,
      "outputs": [
        {
          "output_type": "execute_result",
          "data": {
            "text/plain": [
              "array([2002, 2001, 1991, 1999, 2000, 1993, 1996, 1988, 2004, 1998, 1994,\n",
              "       2003, 1997, 1983, 1979, 1995, 1982, 1985, 1992, 1986, 1978, 1980,\n",
              "       1952, 1987, 1990, 1981, 1989, 1984, 0, 1968, 1961, 1958, 1974,\n",
              "       1976, 1971, 1977, 1975, 1965, 1941, 1970, 1962, 1973, 1972, 1960,\n",
              "       1966, 1920, 1956, 1959, 1953, 1951, 1942, 1963, 1964, 1969, 1954,\n",
              "       1950, 1967, 2005, 1957, 1940, 1937, 1955, 1946, 1936, 1930, 2011,\n",
              "       1925, 1948, 1943, 1947, 1945, 1923, 2020, 1939, 1926, 1938, 2030,\n",
              "       1911, 1904, 1949, 1932, 1928, 1929, 1927, 1931, 1914, 2050, 1934,\n",
              "       1910, 1933, 1902, 1924, 1921, 1900, 2038, 2026, 1944, 1917, 1901,\n",
              "       2010, 1908, 1906, 1935, 1806, 2021, '2000', '1995', '1999', '2004',\n",
              "       '2003', '1990', '1994', '1986', '1989', '2002', '1981', '1993',\n",
              "       '1983', '1982', '1976', '1991', '1977', '1998', '1992', '1996',\n",
              "       '0', '1997', '2001', '1974', '1968', '1987', '1984', '1988',\n",
              "       '1963', '1956', '1970', '1985', '1978', '1973', '1980', '1979',\n",
              "       '1975', '1969', '1961', '1965', '1939', '1958', '1950', '1953',\n",
              "       '1966', '1971', '1959', '1972', '1955', '1957', '1945', '1960',\n",
              "       '1967', '1932', '1924', '1964', '2012', '1911', '1927', '1948',\n",
              "       '1962', '2006', '1952', '1940', '1951', '1931', '1954', '2005',\n",
              "       '1930', '1941', '1944', 'DK Publishing Inc', '1943', '1938',\n",
              "       '1900', '1942', '1923', '1920', '1933', 'Gallimard', '1909',\n",
              "       '1946', '2008', '1378', '2030', '1936', '1947', '2011', '2020',\n",
              "       '1919', '1949', '1922', '1897', '2024', '1376', '1926', '2037'],\n",
              "      dtype=object)"
            ]
          },
          "metadata": {},
          "execution_count": 18
        }
      ]
    },
    {
      "cell_type": "markdown",
      "metadata": {
        "id": "zCrQ3IMxrRbj"
      },
      "source": [
        "Here we have some of the string values as well as we have invalid years ie years above 2021 so we will try nad handle these values"
      ]
    },
    {
      "cell_type": "code",
      "metadata": {
        "colab": {
          "base_uri": "https://localhost:8080/"
        },
        "id": "ueIZnAansJ-b",
        "outputId": "40b1b676-b802-4615-e282-1ac83266d7a1"
      },
      "source": [
        "print(len(books_df[books_df['Year-Of-Publication']=='DK Publishing Inc']))\n",
        "print(len(books_df[books_df['Year-Of-Publication']=='Gallimard']))\n",
        "print(len(books_df[books_df['Year-Of-Publication']==0]))"
      ],
      "execution_count": 19,
      "outputs": [
        {
          "output_type": "stream",
          "name": "stdout",
          "text": [
            "2\n",
            "1\n",
            "3570\n"
          ]
        }
      ]
    },
    {
      "cell_type": "markdown",
      "metadata": {
        "id": "d127Bf6m8yTy"
      },
      "source": [
        "As we can see there are around 3570 values which have 0 as a publication year"
      ]
    },
    {
      "cell_type": "code",
      "metadata": {
        "colab": {
          "base_uri": "https://localhost:8080/",
          "height": 174
        },
        "id": "mriRg4yQsJ7k",
        "outputId": "d9b74396-93e7-4bd1-cc6f-cf0db3b0dce8"
      },
      "source": [
        "books_df.describe()"
      ],
      "execution_count": 20,
      "outputs": [
        {
          "output_type": "execute_result",
          "data": {
            "text/html": [
              "<div>\n",
              "<style scoped>\n",
              "    .dataframe tbody tr th:only-of-type {\n",
              "        vertical-align: middle;\n",
              "    }\n",
              "\n",
              "    .dataframe tbody tr th {\n",
              "        vertical-align: top;\n",
              "    }\n",
              "\n",
              "    .dataframe thead th {\n",
              "        text-align: right;\n",
              "    }\n",
              "</style>\n",
              "<table border=\"1\" class=\"dataframe\">\n",
              "  <thead>\n",
              "    <tr style=\"text-align: right;\">\n",
              "      <th></th>\n",
              "      <th>ISBN</th>\n",
              "      <th>Book-Title</th>\n",
              "      <th>Book-Author</th>\n",
              "      <th>Year-Of-Publication</th>\n",
              "      <th>Publisher</th>\n",
              "    </tr>\n",
              "  </thead>\n",
              "  <tbody>\n",
              "    <tr>\n",
              "      <th>count</th>\n",
              "      <td>271357</td>\n",
              "      <td>271357</td>\n",
              "      <td>271357</td>\n",
              "      <td>271357</td>\n",
              "      <td>271357</td>\n",
              "    </tr>\n",
              "    <tr>\n",
              "      <th>unique</th>\n",
              "      <td>271357</td>\n",
              "      <td>242133</td>\n",
              "      <td>102022</td>\n",
              "      <td>202</td>\n",
              "      <td>16806</td>\n",
              "    </tr>\n",
              "    <tr>\n",
              "      <th>top</th>\n",
              "      <td>034535723X</td>\n",
              "      <td>Selected Poems</td>\n",
              "      <td>Agatha Christie</td>\n",
              "      <td>2002</td>\n",
              "      <td>Harlequin</td>\n",
              "    </tr>\n",
              "    <tr>\n",
              "      <th>freq</th>\n",
              "      <td>1</td>\n",
              "      <td>27</td>\n",
              "      <td>632</td>\n",
              "      <td>13902</td>\n",
              "      <td>7535</td>\n",
              "    </tr>\n",
              "  </tbody>\n",
              "</table>\n",
              "</div>"
            ],
            "text/plain": [
              "              ISBN      Book-Title  ... Year-Of-Publication  Publisher\n",
              "count       271357          271357  ...              271357     271357\n",
              "unique      271357          242133  ...                 202      16806\n",
              "top     034535723X  Selected Poems  ...                2002  Harlequin\n",
              "freq             1              27  ...               13902       7535\n",
              "\n",
              "[4 rows x 5 columns]"
            ]
          },
          "metadata": {},
          "execution_count": 20
        }
      ]
    },
    {
      "cell_type": "markdown",
      "metadata": {
        "id": "N-Vt95Eh96xh"
      },
      "source": [
        "as we can see top value in publication is 2002 so we will replace all these values with 2002 including the year greater then 2021\n"
      ]
    },
    {
      "cell_type": "code",
      "metadata": {
        "id": "YYv3B_RlsJ4h"
      },
      "source": [
        "books_df[books_df['Year-Of-Publication']=='DK Publishing Inc'] = 2002\n",
        "books_df[books_df['Year-Of-Publication']=='Gallimard']=  2002"
      ],
      "execution_count": 21,
      "outputs": []
    },
    {
      "cell_type": "code",
      "metadata": {
        "colab": {
          "base_uri": "https://localhost:8080/"
        },
        "id": "4R6G6OSZ-2g-",
        "outputId": "27f82d13-1b4d-4d76-d41b-25a6caa62236"
      },
      "source": [
        "books_df['Year-Of-Publication'].unique()\n",
        "# we replaced the string values by year "
      ],
      "execution_count": 22,
      "outputs": [
        {
          "output_type": "execute_result",
          "data": {
            "text/plain": [
              "array([2002, 2001, 1991, 1999, 2000, 1993, 1996, 1988, 2004, 1998, 1994,\n",
              "       2003, 1997, 1983, 1979, 1995, 1982, 1985, 1992, 1986, 1978, 1980,\n",
              "       1952, 1987, 1990, 1981, 1989, 1984, 0, 1968, 1961, 1958, 1974,\n",
              "       1976, 1971, 1977, 1975, 1965, 1941, 1970, 1962, 1973, 1972, 1960,\n",
              "       1966, 1920, 1956, 1959, 1953, 1951, 1942, 1963, 1964, 1969, 1954,\n",
              "       1950, 1967, 2005, 1957, 1940, 1937, 1955, 1946, 1936, 1930, 2011,\n",
              "       1925, 1948, 1943, 1947, 1945, 1923, 2020, 1939, 1926, 1938, 2030,\n",
              "       1911, 1904, 1949, 1932, 1928, 1929, 1927, 1931, 1914, 2050, 1934,\n",
              "       1910, 1933, 1902, 1924, 1921, 1900, 2038, 2026, 1944, 1917, 1901,\n",
              "       2010, 1908, 1906, 1935, 1806, 2021, '2000', '1995', '1999', '2004',\n",
              "       '2003', '1990', '1994', '1986', '1989', '2002', '1981', '1993',\n",
              "       '1983', '1982', '1976', '1991', '1977', '1998', '1992', '1996',\n",
              "       '0', '1997', '2001', '1974', '1968', '1987', '1984', '1988',\n",
              "       '1963', '1956', '1970', '1985', '1978', '1973', '1980', '1979',\n",
              "       '1975', '1969', '1961', '1965', '1939', '1958', '1950', '1953',\n",
              "       '1966', '1971', '1959', '1972', '1955', '1957', '1945', '1960',\n",
              "       '1967', '1932', '1924', '1964', '2012', '1911', '1927', '1948',\n",
              "       '1962', '2006', '1952', '1940', '1951', '1931', '1954', '2005',\n",
              "       '1930', '1941', '1944', '1943', '1938', '1900', '1942', '1923',\n",
              "       '1920', '1933', '1909', '1946', '2008', '1378', '2030', '1936',\n",
              "       '1947', '2011', '2020', '1919', '1949', '1922', '1897', '2024',\n",
              "       '1376', '1926', '2037'], dtype=object)"
            ]
          },
          "metadata": {},
          "execution_count": 22
        }
      ]
    },
    {
      "cell_type": "markdown",
      "metadata": {
        "id": "JyHJ0ag1_qTC"
      },
      "source": [
        "Now we will convert object type to int type for publication column"
      ]
    },
    {
      "cell_type": "code",
      "metadata": {
        "id": "fcIMu3tf_xM1"
      },
      "source": [
        "books_df['Year-Of-Publication'] = books_df['Year-Of-Publication'].astype(int)\n"
      ],
      "execution_count": 23,
      "outputs": []
    },
    {
      "cell_type": "markdown",
      "metadata": {
        "id": "FXJLhwl-_K6t"
      },
      "source": [
        "Now we will change all 0 years with max year and all the years above 2021 by max year ie 2002"
      ]
    },
    {
      "cell_type": "code",
      "metadata": {
        "id": "LPP1gX2x_Sv4"
      },
      "source": [
        "books_df.loc[books_df['Year-Of-Publication'] > 2021, 'Year-Of-Publication'] = 2002\n",
        "books_df.loc[books_df['Year-Of-Publication'] == 0, 'Year-Of-Publication'] = 2002"
      ],
      "execution_count": 24,
      "outputs": []
    },
    {
      "cell_type": "code",
      "metadata": {
        "id": "364BoH7f_7dJ"
      },
      "source": [
        "# dropping duplicates\n",
        "books_df.drop_duplicates(keep='last', inplace=True) \n",
        "books_df.reset_index(drop = True, inplace = True)"
      ],
      "execution_count": 25,
      "outputs": []
    },
    {
      "cell_type": "markdown",
      "metadata": {
        "id": "Iu7_uaCPATHE"
      },
      "source": [
        "Users data preprocessing"
      ]
    },
    {
      "cell_type": "code",
      "metadata": {
        "colab": {
          "base_uri": "https://localhost:8080/",
          "height": 206
        },
        "id": "fUK8ebUxCsB2",
        "outputId": "e75898ee-d42b-447e-d193-57d42da5b2f7"
      },
      "source": [
        "user_df.head()"
      ],
      "execution_count": 26,
      "outputs": [
        {
          "output_type": "execute_result",
          "data": {
            "text/html": [
              "<div>\n",
              "<style scoped>\n",
              "    .dataframe tbody tr th:only-of-type {\n",
              "        vertical-align: middle;\n",
              "    }\n",
              "\n",
              "    .dataframe tbody tr th {\n",
              "        vertical-align: top;\n",
              "    }\n",
              "\n",
              "    .dataframe thead th {\n",
              "        text-align: right;\n",
              "    }\n",
              "</style>\n",
              "<table border=\"1\" class=\"dataframe\">\n",
              "  <thead>\n",
              "    <tr style=\"text-align: right;\">\n",
              "      <th></th>\n",
              "      <th>User-ID</th>\n",
              "      <th>Location</th>\n",
              "      <th>Age</th>\n",
              "    </tr>\n",
              "  </thead>\n",
              "  <tbody>\n",
              "    <tr>\n",
              "      <th>0</th>\n",
              "      <td>1</td>\n",
              "      <td>nyc, new york, usa</td>\n",
              "      <td>NaN</td>\n",
              "    </tr>\n",
              "    <tr>\n",
              "      <th>1</th>\n",
              "      <td>2</td>\n",
              "      <td>stockton, california, usa</td>\n",
              "      <td>18.0</td>\n",
              "    </tr>\n",
              "    <tr>\n",
              "      <th>2</th>\n",
              "      <td>3</td>\n",
              "      <td>moscow, yukon territory, russia</td>\n",
              "      <td>NaN</td>\n",
              "    </tr>\n",
              "    <tr>\n",
              "      <th>3</th>\n",
              "      <td>4</td>\n",
              "      <td>porto, v.n.gaia, portugal</td>\n",
              "      <td>17.0</td>\n",
              "    </tr>\n",
              "    <tr>\n",
              "      <th>4</th>\n",
              "      <td>5</td>\n",
              "      <td>farnborough, hants, united kingdom</td>\n",
              "      <td>NaN</td>\n",
              "    </tr>\n",
              "  </tbody>\n",
              "</table>\n",
              "</div>"
            ],
            "text/plain": [
              "   User-ID                            Location   Age\n",
              "0        1                  nyc, new york, usa   NaN\n",
              "1        2           stockton, california, usa  18.0\n",
              "2        3     moscow, yukon territory, russia   NaN\n",
              "3        4           porto, v.n.gaia, portugal  17.0\n",
              "4        5  farnborough, hants, united kingdom   NaN"
            ]
          },
          "metadata": {},
          "execution_count": 26
        }
      ]
    },
    {
      "cell_type": "code",
      "metadata": {
        "colab": {
          "base_uri": "https://localhost:8080/"
        },
        "id": "gbRXFK0xg7Qr",
        "outputId": "b0eac151-dce9-426c-d45c-39e979241800"
      },
      "source": [
        "# as we have seen we have missing values in age column \n",
        "user_df['Age'].unique()"
      ],
      "execution_count": 27,
      "outputs": [
        {
          "output_type": "execute_result",
          "data": {
            "text/plain": [
              "array([ nan,  18.,  17.,  61.,  26.,  14.,  25.,  19.,  46.,  55.,  32.,\n",
              "        24.,  20.,  34.,  23.,  51.,  31.,  21.,  44.,  30.,  57.,  43.,\n",
              "        37.,  41.,  54.,  42.,  50.,  39.,  53.,  47.,  36.,  28.,  35.,\n",
              "        13.,  58.,  49.,  38.,  45.,  62.,  63.,  27.,  33.,  29.,  66.,\n",
              "        40.,  15.,  60.,   0.,  79.,  22.,  16.,  65.,  59.,  48.,  72.,\n",
              "        56.,  67.,   1.,  80.,  52.,  69.,  71.,  73.,  78.,   9.,  64.,\n",
              "       103., 104.,  12.,  74.,  75., 231.,   3.,  76.,  83.,  68., 119.,\n",
              "        11.,  77.,   2.,  70.,  93.,   8.,   7.,   4.,  81., 114., 230.,\n",
              "       239.,  10.,   5., 148., 151.,   6., 101., 201.,  96.,  84.,  82.,\n",
              "        90., 123., 244., 133.,  91., 128.,  94.,  85., 141., 110.,  97.,\n",
              "       219.,  86., 124.,  92., 175., 172., 209., 212., 237.,  87., 162.,\n",
              "       100., 156., 136.,  95.,  89., 106.,  99., 108., 210.,  88., 199.,\n",
              "       147., 168., 132., 159., 186., 152., 102., 116., 200., 115., 226.,\n",
              "       137., 207., 229., 138., 109., 105., 228., 183., 204.,  98., 223.,\n",
              "       113., 208., 107., 157., 111., 146., 118., 220., 143., 140., 189.,\n",
              "       127.])"
            ]
          },
          "metadata": {},
          "execution_count": 27
        }
      ]
    },
    {
      "cell_type": "code",
      "metadata": {
        "id": "r1vWMAKPjMnL"
      },
      "source": [
        "# fill missing values with mean\n",
        "user_df['Age'].fillna(user_df.Age.mean(), inplace=True)\n"
      ],
      "execution_count": 28,
      "outputs": []
    },
    {
      "cell_type": "code",
      "metadata": {
        "colab": {
          "base_uri": "https://localhost:8080/"
        },
        "id": "Zoi50AffDgV5",
        "outputId": "80c12af2-e2b1-48ba-80ca-c4c4c64d6a57"
      },
      "source": [
        "user_df['Age'].isnull().sum()"
      ],
      "execution_count": 29,
      "outputs": [
        {
          "output_type": "execute_result",
          "data": {
            "text/plain": [
              "0"
            ]
          },
          "metadata": {},
          "execution_count": 29
        }
      ]
    },
    {
      "cell_type": "markdown",
      "metadata": {
        "id": "-ImlogybD4eR"
      },
      "source": [
        "here age values are too high which even practically seems impossible so we will take only age greater then 5 and less then 80 sp we will substitute all these values with mean\n"
      ]
    },
    {
      "cell_type": "code",
      "metadata": {
        "id": "FPJe4TfEDoz9"
      },
      "source": [
        "user_df.loc[user_df['Age']>=80, 'Age'] = round(user_df['Age'].mean())\n",
        "user_df.loc[user_df['Age']<=10, 'Age'] = round(user_df['Age'].mean())"
      ],
      "execution_count": 30,
      "outputs": []
    },
    {
      "cell_type": "code",
      "metadata": {
        "id": "SYq0MnwUEzu3"
      },
      "source": [
        "user_df['Age'] = user_df['Age'].astype(int)       #changing Datatype to int\n"
      ],
      "execution_count": 31,
      "outputs": []
    },
    {
      "cell_type": "code",
      "metadata": {
        "id": "YhVcPmqlFEaE"
      },
      "source": [
        "## Drop duplicate rows\n",
        "user_df.drop_duplicates(keep='last', inplace=True)\n",
        "user_df.reset_index(drop=True, inplace=True)"
      ],
      "execution_count": 32,
      "outputs": []
    },
    {
      "cell_type": "code",
      "metadata": {
        "colab": {
          "base_uri": "https://localhost:8080/",
          "height": 206
        },
        "id": "OjGE9cGTFO-Y",
        "outputId": "4c0efea6-4e9b-4840-dc27-530624ee6118"
      },
      "source": [
        "user_df.head()"
      ],
      "execution_count": 33,
      "outputs": [
        {
          "output_type": "execute_result",
          "data": {
            "text/html": [
              "<div>\n",
              "<style scoped>\n",
              "    .dataframe tbody tr th:only-of-type {\n",
              "        vertical-align: middle;\n",
              "    }\n",
              "\n",
              "    .dataframe tbody tr th {\n",
              "        vertical-align: top;\n",
              "    }\n",
              "\n",
              "    .dataframe thead th {\n",
              "        text-align: right;\n",
              "    }\n",
              "</style>\n",
              "<table border=\"1\" class=\"dataframe\">\n",
              "  <thead>\n",
              "    <tr style=\"text-align: right;\">\n",
              "      <th></th>\n",
              "      <th>User-ID</th>\n",
              "      <th>Location</th>\n",
              "      <th>Age</th>\n",
              "    </tr>\n",
              "  </thead>\n",
              "  <tbody>\n",
              "    <tr>\n",
              "      <th>0</th>\n",
              "      <td>1</td>\n",
              "      <td>nyc, new york, usa</td>\n",
              "      <td>34</td>\n",
              "    </tr>\n",
              "    <tr>\n",
              "      <th>1</th>\n",
              "      <td>2</td>\n",
              "      <td>stockton, california, usa</td>\n",
              "      <td>18</td>\n",
              "    </tr>\n",
              "    <tr>\n",
              "      <th>2</th>\n",
              "      <td>3</td>\n",
              "      <td>moscow, yukon territory, russia</td>\n",
              "      <td>34</td>\n",
              "    </tr>\n",
              "    <tr>\n",
              "      <th>3</th>\n",
              "      <td>4</td>\n",
              "      <td>porto, v.n.gaia, portugal</td>\n",
              "      <td>17</td>\n",
              "    </tr>\n",
              "    <tr>\n",
              "      <th>4</th>\n",
              "      <td>5</td>\n",
              "      <td>farnborough, hants, united kingdom</td>\n",
              "      <td>34</td>\n",
              "    </tr>\n",
              "  </tbody>\n",
              "</table>\n",
              "</div>"
            ],
            "text/plain": [
              "   User-ID                            Location  Age\n",
              "0        1                  nyc, new york, usa   34\n",
              "1        2           stockton, california, usa   18\n",
              "2        3     moscow, yukon territory, russia   34\n",
              "3        4           porto, v.n.gaia, portugal   17\n",
              "4        5  farnborough, hants, united kingdom   34"
            ]
          },
          "metadata": {},
          "execution_count": 33
        }
      ]
    },
    {
      "cell_type": "code",
      "metadata": {
        "colab": {
          "base_uri": "https://localhost:8080/"
        },
        "id": "bjdMfw14FYMv",
        "outputId": "dbd5f376-7e3a-4460-8595-2dc235665b8b"
      },
      "source": [
        "user_df.info()"
      ],
      "execution_count": 34,
      "outputs": [
        {
          "output_type": "stream",
          "name": "stdout",
          "text": [
            "<class 'pandas.core.frame.DataFrame'>\n",
            "RangeIndex: 278858 entries, 0 to 278857\n",
            "Data columns (total 3 columns):\n",
            " #   Column    Non-Null Count   Dtype \n",
            "---  ------    --------------   ----- \n",
            " 0   User-ID   278858 non-null  int64 \n",
            " 1   Location  278858 non-null  object\n",
            " 2   Age       278858 non-null  int64 \n",
            "dtypes: int64(2), object(1)\n",
            "memory usage: 6.4+ MB\n"
          ]
        }
      ]
    },
    {
      "cell_type": "markdown",
      "metadata": {
        "id": "7MCS4eXzF2MP"
      },
      "source": [
        "ratings data pre processing"
      ]
    },
    {
      "cell_type": "code",
      "metadata": {
        "colab": {
          "base_uri": "https://localhost:8080/",
          "height": 206
        },
        "id": "UVgwIvZOFoWd",
        "outputId": "44319a82-50e7-4fb1-b060-e814c5b01513"
      },
      "source": [
        "ratings_df.head()"
      ],
      "execution_count": 35,
      "outputs": [
        {
          "output_type": "execute_result",
          "data": {
            "text/html": [
              "<div>\n",
              "<style scoped>\n",
              "    .dataframe tbody tr th:only-of-type {\n",
              "        vertical-align: middle;\n",
              "    }\n",
              "\n",
              "    .dataframe tbody tr th {\n",
              "        vertical-align: top;\n",
              "    }\n",
              "\n",
              "    .dataframe thead th {\n",
              "        text-align: right;\n",
              "    }\n",
              "</style>\n",
              "<table border=\"1\" class=\"dataframe\">\n",
              "  <thead>\n",
              "    <tr style=\"text-align: right;\">\n",
              "      <th></th>\n",
              "      <th>User-ID</th>\n",
              "      <th>ISBN</th>\n",
              "      <th>Book-Rating</th>\n",
              "    </tr>\n",
              "  </thead>\n",
              "  <tbody>\n",
              "    <tr>\n",
              "      <th>0</th>\n",
              "      <td>276725</td>\n",
              "      <td>034545104X</td>\n",
              "      <td>0</td>\n",
              "    </tr>\n",
              "    <tr>\n",
              "      <th>1</th>\n",
              "      <td>276726</td>\n",
              "      <td>0155061224</td>\n",
              "      <td>5</td>\n",
              "    </tr>\n",
              "    <tr>\n",
              "      <th>2</th>\n",
              "      <td>276727</td>\n",
              "      <td>0446520802</td>\n",
              "      <td>0</td>\n",
              "    </tr>\n",
              "    <tr>\n",
              "      <th>3</th>\n",
              "      <td>276729</td>\n",
              "      <td>052165615X</td>\n",
              "      <td>3</td>\n",
              "    </tr>\n",
              "    <tr>\n",
              "      <th>4</th>\n",
              "      <td>276729</td>\n",
              "      <td>0521795028</td>\n",
              "      <td>6</td>\n",
              "    </tr>\n",
              "  </tbody>\n",
              "</table>\n",
              "</div>"
            ],
            "text/plain": [
              "   User-ID        ISBN  Book-Rating\n",
              "0   276725  034545104X            0\n",
              "1   276726  0155061224            5\n",
              "2   276727  0446520802            0\n",
              "3   276729  052165615X            3\n",
              "4   276729  0521795028            6"
            ]
          },
          "metadata": {},
          "execution_count": 35
        }
      ]
    },
    {
      "cell_type": "code",
      "metadata": {
        "colab": {
          "base_uri": "https://localhost:8080/"
        },
        "id": "_EWIYnMCG02u",
        "outputId": "09c2e389-020e-4625-8c42-520e57a0f783"
      },
      "source": [
        "ratings_df['ISBN'].unique()"
      ],
      "execution_count": 36,
      "outputs": [
        {
          "output_type": "execute_result",
          "data": {
            "text/plain": [
              "array(['034545104X', '0155061224', '0446520802', ..., '0679752714',\n",
              "       '0806917695', '05162443314'], dtype=object)"
            ]
          },
          "metadata": {},
          "execution_count": 36
        }
      ]
    },
    {
      "cell_type": "markdown",
      "metadata": {
        "id": "h04kqgsNaqBr"
      },
      "source": [
        "**Merging all three tables**"
      ]
    },
    {
      "cell_type": "code",
      "metadata": {
        "colab": {
          "base_uri": "https://localhost:8080/",
          "height": 206
        },
        "id": "m_HnPLgebCD5",
        "outputId": "fcc907d6-baca-44ee-cd53-4cf68f716fdc"
      },
      "source": [
        "books_df.head()"
      ],
      "execution_count": 39,
      "outputs": [
        {
          "output_type": "execute_result",
          "data": {
            "text/html": [
              "<div>\n",
              "<style scoped>\n",
              "    .dataframe tbody tr th:only-of-type {\n",
              "        vertical-align: middle;\n",
              "    }\n",
              "\n",
              "    .dataframe tbody tr th {\n",
              "        vertical-align: top;\n",
              "    }\n",
              "\n",
              "    .dataframe thead th {\n",
              "        text-align: right;\n",
              "    }\n",
              "</style>\n",
              "<table border=\"1\" class=\"dataframe\">\n",
              "  <thead>\n",
              "    <tr style=\"text-align: right;\">\n",
              "      <th></th>\n",
              "      <th>ISBN</th>\n",
              "      <th>Book-Title</th>\n",
              "      <th>Book-Author</th>\n",
              "      <th>Year-Of-Publication</th>\n",
              "      <th>Publisher</th>\n",
              "    </tr>\n",
              "  </thead>\n",
              "  <tbody>\n",
              "    <tr>\n",
              "      <th>0</th>\n",
              "      <td>0195153448</td>\n",
              "      <td>Classical Mythology</td>\n",
              "      <td>Mark P. O. Morford</td>\n",
              "      <td>2002</td>\n",
              "      <td>Oxford University Press</td>\n",
              "    </tr>\n",
              "    <tr>\n",
              "      <th>1</th>\n",
              "      <td>0002005018</td>\n",
              "      <td>Clara Callan</td>\n",
              "      <td>Richard Bruce Wright</td>\n",
              "      <td>2001</td>\n",
              "      <td>HarperFlamingo Canada</td>\n",
              "    </tr>\n",
              "    <tr>\n",
              "      <th>2</th>\n",
              "      <td>0060973129</td>\n",
              "      <td>Decision in Normandy</td>\n",
              "      <td>Carlo D'Este</td>\n",
              "      <td>1991</td>\n",
              "      <td>HarperPerennial</td>\n",
              "    </tr>\n",
              "    <tr>\n",
              "      <th>3</th>\n",
              "      <td>0374157065</td>\n",
              "      <td>Flu: The Story of the Great Influenza Pandemic...</td>\n",
              "      <td>Gina Bari Kolata</td>\n",
              "      <td>1999</td>\n",
              "      <td>Farrar Straus Giroux</td>\n",
              "    </tr>\n",
              "    <tr>\n",
              "      <th>4</th>\n",
              "      <td>0393045218</td>\n",
              "      <td>The Mummies of Urumchi</td>\n",
              "      <td>E. J. W. Barber</td>\n",
              "      <td>1999</td>\n",
              "      <td>W. W. Norton &amp;amp; Company</td>\n",
              "    </tr>\n",
              "  </tbody>\n",
              "</table>\n",
              "</div>"
            ],
            "text/plain": [
              "         ISBN  ...                   Publisher\n",
              "0  0195153448  ...     Oxford University Press\n",
              "1  0002005018  ...       HarperFlamingo Canada\n",
              "2  0060973129  ...             HarperPerennial\n",
              "3  0374157065  ...        Farrar Straus Giroux\n",
              "4  0393045218  ...  W. W. Norton &amp; Company\n",
              "\n",
              "[5 rows x 5 columns]"
            ]
          },
          "metadata": {},
          "execution_count": 39
        }
      ]
    },
    {
      "cell_type": "code",
      "metadata": {
        "colab": {
          "base_uri": "https://localhost:8080/",
          "height": 206
        },
        "id": "MMYkE1hibE31",
        "outputId": "e93e80ea-45b2-4b88-925e-b44afb4d70e7"
      },
      "source": [
        "ratings_df.head()"
      ],
      "execution_count": 40,
      "outputs": [
        {
          "output_type": "execute_result",
          "data": {
            "text/html": [
              "<div>\n",
              "<style scoped>\n",
              "    .dataframe tbody tr th:only-of-type {\n",
              "        vertical-align: middle;\n",
              "    }\n",
              "\n",
              "    .dataframe tbody tr th {\n",
              "        vertical-align: top;\n",
              "    }\n",
              "\n",
              "    .dataframe thead th {\n",
              "        text-align: right;\n",
              "    }\n",
              "</style>\n",
              "<table border=\"1\" class=\"dataframe\">\n",
              "  <thead>\n",
              "    <tr style=\"text-align: right;\">\n",
              "      <th></th>\n",
              "      <th>User-ID</th>\n",
              "      <th>ISBN</th>\n",
              "      <th>Book-Rating</th>\n",
              "    </tr>\n",
              "  </thead>\n",
              "  <tbody>\n",
              "    <tr>\n",
              "      <th>0</th>\n",
              "      <td>276725</td>\n",
              "      <td>034545104X</td>\n",
              "      <td>0</td>\n",
              "    </tr>\n",
              "    <tr>\n",
              "      <th>1</th>\n",
              "      <td>276726</td>\n",
              "      <td>0155061224</td>\n",
              "      <td>5</td>\n",
              "    </tr>\n",
              "    <tr>\n",
              "      <th>2</th>\n",
              "      <td>276727</td>\n",
              "      <td>0446520802</td>\n",
              "      <td>0</td>\n",
              "    </tr>\n",
              "    <tr>\n",
              "      <th>3</th>\n",
              "      <td>276729</td>\n",
              "      <td>052165615X</td>\n",
              "      <td>3</td>\n",
              "    </tr>\n",
              "    <tr>\n",
              "      <th>4</th>\n",
              "      <td>276729</td>\n",
              "      <td>0521795028</td>\n",
              "      <td>6</td>\n",
              "    </tr>\n",
              "  </tbody>\n",
              "</table>\n",
              "</div>"
            ],
            "text/plain": [
              "   User-ID        ISBN  Book-Rating\n",
              "0   276725  034545104X            0\n",
              "1   276726  0155061224            5\n",
              "2   276727  0446520802            0\n",
              "3   276729  052165615X            3\n",
              "4   276729  0521795028            6"
            ]
          },
          "metadata": {},
          "execution_count": 40
        }
      ]
    },
    {
      "cell_type": "markdown",
      "metadata": {
        "id": "xKKiAfvtdlVR"
      },
      "source": [
        "Here 1st we will merge books and ratings as they seems more related by inner join"
      ]
    },
    {
      "cell_type": "code",
      "metadata": {
        "id": "N2yrQKbqG9GL"
      },
      "source": [
        "final_df = pd.merge(books_df,ratings_df , on = 'ISBN',how='inner')"
      ],
      "execution_count": 43,
      "outputs": []
    },
    {
      "cell_type": "code",
      "metadata": {
        "colab": {
          "base_uri": "https://localhost:8080/",
          "height": 528
        },
        "id": "p3FOZo4ka8dW",
        "outputId": "358f6560-1580-4f0b-c6d0-176b4fe99996"
      },
      "source": [
        "final_df"
      ],
      "execution_count": 44,
      "outputs": [
        {
          "output_type": "execute_result",
          "data": {
            "text/html": [
              "<div>\n",
              "<style scoped>\n",
              "    .dataframe tbody tr th:only-of-type {\n",
              "        vertical-align: middle;\n",
              "    }\n",
              "\n",
              "    .dataframe tbody tr th {\n",
              "        vertical-align: top;\n",
              "    }\n",
              "\n",
              "    .dataframe thead th {\n",
              "        text-align: right;\n",
              "    }\n",
              "</style>\n",
              "<table border=\"1\" class=\"dataframe\">\n",
              "  <thead>\n",
              "    <tr style=\"text-align: right;\">\n",
              "      <th></th>\n",
              "      <th>ISBN</th>\n",
              "      <th>Book-Title</th>\n",
              "      <th>Book-Author</th>\n",
              "      <th>Year-Of-Publication</th>\n",
              "      <th>Publisher</th>\n",
              "      <th>User-ID</th>\n",
              "      <th>Book-Rating</th>\n",
              "    </tr>\n",
              "  </thead>\n",
              "  <tbody>\n",
              "    <tr>\n",
              "      <th>0</th>\n",
              "      <td>0195153448</td>\n",
              "      <td>Classical Mythology</td>\n",
              "      <td>Mark P. O. Morford</td>\n",
              "      <td>2002</td>\n",
              "      <td>Oxford University Press</td>\n",
              "      <td>2</td>\n",
              "      <td>0</td>\n",
              "    </tr>\n",
              "    <tr>\n",
              "      <th>1</th>\n",
              "      <td>0002005018</td>\n",
              "      <td>Clara Callan</td>\n",
              "      <td>Richard Bruce Wright</td>\n",
              "      <td>2001</td>\n",
              "      <td>HarperFlamingo Canada</td>\n",
              "      <td>8</td>\n",
              "      <td>5</td>\n",
              "    </tr>\n",
              "    <tr>\n",
              "      <th>2</th>\n",
              "      <td>0002005018</td>\n",
              "      <td>Clara Callan</td>\n",
              "      <td>Richard Bruce Wright</td>\n",
              "      <td>2001</td>\n",
              "      <td>HarperFlamingo Canada</td>\n",
              "      <td>11400</td>\n",
              "      <td>0</td>\n",
              "    </tr>\n",
              "    <tr>\n",
              "      <th>3</th>\n",
              "      <td>0002005018</td>\n",
              "      <td>Clara Callan</td>\n",
              "      <td>Richard Bruce Wright</td>\n",
              "      <td>2001</td>\n",
              "      <td>HarperFlamingo Canada</td>\n",
              "      <td>11676</td>\n",
              "      <td>8</td>\n",
              "    </tr>\n",
              "    <tr>\n",
              "      <th>4</th>\n",
              "      <td>0002005018</td>\n",
              "      <td>Clara Callan</td>\n",
              "      <td>Richard Bruce Wright</td>\n",
              "      <td>2001</td>\n",
              "      <td>HarperFlamingo Canada</td>\n",
              "      <td>41385</td>\n",
              "      <td>0</td>\n",
              "    </tr>\n",
              "    <tr>\n",
              "      <th>...</th>\n",
              "      <td>...</td>\n",
              "      <td>...</td>\n",
              "      <td>...</td>\n",
              "      <td>...</td>\n",
              "      <td>...</td>\n",
              "      <td>...</td>\n",
              "      <td>...</td>\n",
              "    </tr>\n",
              "    <tr>\n",
              "      <th>1031124</th>\n",
              "      <td>0440400988</td>\n",
              "      <td>There's a Bat in Bunk Five</td>\n",
              "      <td>Paula Danziger</td>\n",
              "      <td>1988</td>\n",
              "      <td>Random House Childrens Pub (Mm)</td>\n",
              "      <td>276463</td>\n",
              "      <td>7</td>\n",
              "    </tr>\n",
              "    <tr>\n",
              "      <th>1031125</th>\n",
              "      <td>0525447644</td>\n",
              "      <td>From One to One Hundred</td>\n",
              "      <td>Teri Sloat</td>\n",
              "      <td>1991</td>\n",
              "      <td>Dutton Books</td>\n",
              "      <td>276579</td>\n",
              "      <td>4</td>\n",
              "    </tr>\n",
              "    <tr>\n",
              "      <th>1031126</th>\n",
              "      <td>006008667X</td>\n",
              "      <td>Lily Dale : The True Story of the Town that Ta...</td>\n",
              "      <td>Christine Wicker</td>\n",
              "      <td>2004</td>\n",
              "      <td>HarperSanFrancisco</td>\n",
              "      <td>276680</td>\n",
              "      <td>0</td>\n",
              "    </tr>\n",
              "    <tr>\n",
              "      <th>1031127</th>\n",
              "      <td>0192126040</td>\n",
              "      <td>Republic (World's Classics)</td>\n",
              "      <td>Plato</td>\n",
              "      <td>1996</td>\n",
              "      <td>Oxford University Press</td>\n",
              "      <td>276680</td>\n",
              "      <td>0</td>\n",
              "    </tr>\n",
              "    <tr>\n",
              "      <th>1031128</th>\n",
              "      <td>0767409752</td>\n",
              "      <td>A Guided Tour of Rene Descartes' Meditations o...</td>\n",
              "      <td>Christopher  Biffle</td>\n",
              "      <td>2000</td>\n",
              "      <td>McGraw-Hill Humanities/Social Sciences/Languages</td>\n",
              "      <td>276680</td>\n",
              "      <td>0</td>\n",
              "    </tr>\n",
              "  </tbody>\n",
              "</table>\n",
              "<p>1031129 rows × 7 columns</p>\n",
              "</div>"
            ],
            "text/plain": [
              "               ISBN  ... Book-Rating\n",
              "0        0195153448  ...           0\n",
              "1        0002005018  ...           5\n",
              "2        0002005018  ...           0\n",
              "3        0002005018  ...           8\n",
              "4        0002005018  ...           0\n",
              "...             ...  ...         ...\n",
              "1031124  0440400988  ...           7\n",
              "1031125  0525447644  ...           4\n",
              "1031126  006008667X  ...           0\n",
              "1031127  0192126040  ...           0\n",
              "1031128  0767409752  ...           0\n",
              "\n",
              "[1031129 rows x 7 columns]"
            ]
          },
          "metadata": {},
          "execution_count": 44
        }
      ]
    },
    {
      "cell_type": "markdown",
      "metadata": {
        "id": "qcvB6R4bd3Jr"
      },
      "source": [
        "here we will merge final_df with users "
      ]
    },
    {
      "cell_type": "code",
      "metadata": {
        "id": "GHX2Fq7ra-C_"
      },
      "source": [
        "total_data = pd.merge(final_df, user_df,  on='User-ID', how='inner')"
      ],
      "execution_count": 45,
      "outputs": []
    },
    {
      "cell_type": "code",
      "metadata": {
        "colab": {
          "base_uri": "https://localhost:8080/",
          "height": 293
        },
        "id": "H8WZHlsFeMM0",
        "outputId": "8be0a8a0-9cd4-48ba-bcdc-755e53b1c0b7"
      },
      "source": [
        "total_data.head()"
      ],
      "execution_count": 46,
      "outputs": [
        {
          "output_type": "execute_result",
          "data": {
            "text/html": [
              "<div>\n",
              "<style scoped>\n",
              "    .dataframe tbody tr th:only-of-type {\n",
              "        vertical-align: middle;\n",
              "    }\n",
              "\n",
              "    .dataframe tbody tr th {\n",
              "        vertical-align: top;\n",
              "    }\n",
              "\n",
              "    .dataframe thead th {\n",
              "        text-align: right;\n",
              "    }\n",
              "</style>\n",
              "<table border=\"1\" class=\"dataframe\">\n",
              "  <thead>\n",
              "    <tr style=\"text-align: right;\">\n",
              "      <th></th>\n",
              "      <th>ISBN</th>\n",
              "      <th>Book-Title</th>\n",
              "      <th>Book-Author</th>\n",
              "      <th>Year-Of-Publication</th>\n",
              "      <th>Publisher</th>\n",
              "      <th>User-ID</th>\n",
              "      <th>Book-Rating</th>\n",
              "      <th>Location</th>\n",
              "      <th>Age</th>\n",
              "    </tr>\n",
              "  </thead>\n",
              "  <tbody>\n",
              "    <tr>\n",
              "      <th>0</th>\n",
              "      <td>0195153448</td>\n",
              "      <td>Classical Mythology</td>\n",
              "      <td>Mark P. O. Morford</td>\n",
              "      <td>2002</td>\n",
              "      <td>Oxford University Press</td>\n",
              "      <td>2</td>\n",
              "      <td>0</td>\n",
              "      <td>stockton, california, usa</td>\n",
              "      <td>18</td>\n",
              "    </tr>\n",
              "    <tr>\n",
              "      <th>1</th>\n",
              "      <td>0002005018</td>\n",
              "      <td>Clara Callan</td>\n",
              "      <td>Richard Bruce Wright</td>\n",
              "      <td>2001</td>\n",
              "      <td>HarperFlamingo Canada</td>\n",
              "      <td>8</td>\n",
              "      <td>5</td>\n",
              "      <td>timmins, ontario, canada</td>\n",
              "      <td>34</td>\n",
              "    </tr>\n",
              "    <tr>\n",
              "      <th>2</th>\n",
              "      <td>0060973129</td>\n",
              "      <td>Decision in Normandy</td>\n",
              "      <td>Carlo D'Este</td>\n",
              "      <td>1991</td>\n",
              "      <td>HarperPerennial</td>\n",
              "      <td>8</td>\n",
              "      <td>0</td>\n",
              "      <td>timmins, ontario, canada</td>\n",
              "      <td>34</td>\n",
              "    </tr>\n",
              "    <tr>\n",
              "      <th>3</th>\n",
              "      <td>0374157065</td>\n",
              "      <td>Flu: The Story of the Great Influenza Pandemic...</td>\n",
              "      <td>Gina Bari Kolata</td>\n",
              "      <td>1999</td>\n",
              "      <td>Farrar Straus Giroux</td>\n",
              "      <td>8</td>\n",
              "      <td>0</td>\n",
              "      <td>timmins, ontario, canada</td>\n",
              "      <td>34</td>\n",
              "    </tr>\n",
              "    <tr>\n",
              "      <th>4</th>\n",
              "      <td>0393045218</td>\n",
              "      <td>The Mummies of Urumchi</td>\n",
              "      <td>E. J. W. Barber</td>\n",
              "      <td>1999</td>\n",
              "      <td>W. W. Norton &amp;amp; Company</td>\n",
              "      <td>8</td>\n",
              "      <td>0</td>\n",
              "      <td>timmins, ontario, canada</td>\n",
              "      <td>34</td>\n",
              "    </tr>\n",
              "  </tbody>\n",
              "</table>\n",
              "</div>"
            ],
            "text/plain": [
              "         ISBN  ... Age\n",
              "0  0195153448  ...  18\n",
              "1  0002005018  ...  34\n",
              "2  0060973129  ...  34\n",
              "3  0374157065  ...  34\n",
              "4  0393045218  ...  34\n",
              "\n",
              "[5 rows x 9 columns]"
            ]
          },
          "metadata": {},
          "execution_count": 46
        }
      ]
    },
    {
      "cell_type": "markdown",
      "metadata": {
        "id": "NfWV7O0dfIte"
      },
      "source": [
        "As we can see there are many 0 ratings in book rating"
      ]
    },
    {
      "cell_type": "markdown",
      "metadata": {
        "id": "lfbRO-u1fNbc"
      },
      "source": [
        "**EDA**"
      ]
    },
    {
      "cell_type": "code",
      "metadata": {
        "colab": {
          "base_uri": "https://localhost:8080/",
          "height": 421
        },
        "id": "EavRjbXceQTH",
        "outputId": "9ff80d3b-e06b-4762-d6d7-b61fd63c5b58"
      },
      "source": [
        "# books count by top 15 authors\n",
        "plt.figure(figsize=(15,6))\n",
        "sns.countplot(y= 'Book-Author'  , data=books_df,order=books_df['Book-Author'].value_counts().index[0:15])\n",
        "plt.title('Total number of books by top 15 authors')"
      ],
      "execution_count": 53,
      "outputs": [
        {
          "output_type": "execute_result",
          "data": {
            "text/plain": [
              "Text(0.5, 1.0, 'Total number of books by top 15 authors')"
            ]
          },
          "metadata": {},
          "execution_count": 53
        },
        {
          "output_type": "display_data",
          "data": {
            "image/png": "[encoded data removed]",
            "text/plain": [
              "<Figure size 1080x432 with 1 Axes>"
            ]
          },
          "metadata": {
            "needs_background": "light"
          }
        }
      ]
    },
    {
      "cell_type": "code",
      "metadata": {
        "colab": {
          "base_uri": "https://localhost:8080/",
          "height": 454
        },
        "id": "EJ5auuQrf4Ft",
        "outputId": "d84e8954-a967-40b0-f542-18be70b1985e"
      },
      "source": [
        "# number of books published by publisher\n",
        "plt.figure(figsize=(15,6))\n",
        "sns.countplot(y=\"Publisher\", data=books_df,order=books_df['Publisher'].value_counts().index[0:15])\n",
        "plt.title(\"No of books published by a publisher\")\n",
        "plt.xticks(rotation=45)"
      ],
      "execution_count": 58,
      "outputs": [
        {
          "output_type": "execute_result",
          "data": {
            "text/plain": [
              "(array([   0., 1000., 2000., 3000., 4000., 5000., 6000., 7000., 8000.]),\n",
              " <a list of 9 Text major ticklabel objects>)"
            ]
          },
          "metadata": {},
          "execution_count": 58
        },
        {
          "output_type": "display_data",
          "data": {
            "image/png": "[encoded data removed]",
            "text/plain": [
              "<Figure size 1080x432 with 1 Axes>"
            ]
          },
          "metadata": {
            "needs_background": "light"
          }
        }
      ]
    },
    {
      "cell_type": "code",
      "metadata": {
        "colab": {
          "base_uri": "https://localhost:8080/",
          "height": 421
        },
        "id": "4Pin4d0NipJg",
        "outputId": "42fd6c1c-e4e8-40f8-8e87-88b278abbb82"
      },
      "source": [
        "# ratings of books\n",
        "plt.figure(figsize=(8,6))\n",
        "sns.countplot(x='Book-Rating',data=ratings_df)\n",
        "plt.title('ratings of book')"
      ],
      "execution_count": 67,
      "outputs": [
        {
          "output_type": "execute_result",
          "data": {
            "text/plain": [
              "Text(0.5, 1.0, 'ratings of book')"
            ]
          },
          "metadata": {},
          "execution_count": 67
        },
        {
          "output_type": "display_data",
          "data": {
            "image/png": "[encoded data removed]",
            "text/plain": [
              "<Figure size 576x432 with 1 Axes>"
            ]
          },
          "metadata": {
            "needs_background": "light"
          }
        }
      ]
    },
    {
      "cell_type": "markdown",
      "metadata": {
        "id": "-ioVOpiHjUke"
      },
      "source": [
        "Now we will plot for the explicit ratings the ratings without zero ratings"
      ]
    },
    {
      "cell_type": "code",
      "metadata": {
        "colab": {
          "base_uri": "https://localhost:8080/",
          "height": 421
        },
        "id": "rkHVsvrNjNew",
        "outputId": "df09b916-3e17-4816-ed69-bd6ef18f7fe2"
      },
      "source": [
        "plt.figure(figsize=(8,6))\n",
        "data=ratings_df[ratings_df['Book-Rating']!=0]\n",
        "sns.countplot(x='Book-Rating' , data=data)\n",
        "plt.title('explicit ratings')"
      ],
      "execution_count": 62,
      "outputs": [
        {
          "output_type": "execute_result",
          "data": {
            "text/plain": [
              "Text(0.5, 1.0, 'explicit ratings')"
            ]
          },
          "metadata": {},
          "execution_count": 62
        },
        {
          "output_type": "display_data",
          "data": {
            "image/png": "[encoded data removed]",
            "text/plain": [
              "<Figure size 576x432 with 1 Axes>"
            ]
          },
          "metadata": {
            "needs_background": "light"
          }
        }
      ]
    },
    {
      "cell_type": "markdown",
      "metadata": {
        "id": "5KsFV2erj2q6"
      },
      "source": [
        "Bins for age distributions"
      ]
    },
    {
      "cell_type": "code",
      "metadata": {
        "id": "d3Vgj0wYoHj1",
        "outputId": "d7bbe238-6853-4225-fe7c-9469eb2be6b1",
        "colab": {
          "base_uri": "https://localhost:8080/",
          "height": 404
        }
      },
      "source": [
        "plt.figure(figsize=(8,6))\n",
        "user_df.Age.hist(bins=10)\n",
        "plt.title('Age Distribution')\n",
        "plt.xlabel('Age')\n",
        "plt.ylabel('Count')\n",
        "plt.show()"
      ],
      "execution_count": 73,
      "outputs": [
        {
          "output_type": "display_data",
          "data": {
            "image/png": "[encoded data removed]",
            "text/plain": [
              "<Figure size 576x432 with 1 Axes>"
            ]
          },
          "metadata": {
            "needs_background": "light"
          }
        }
      ]
    },
    {
      "cell_type": "code",
      "metadata": {
        "colab": {
          "base_uri": "https://localhost:8080/",
          "height": 404
        },
        "id": "MALQZrDZkWb_",
        "outputId": "59fd82f9-fe3c-44ec-f21e-4781a8949108"
      },
      "source": [
        "# city wise distribution\n",
        "plt.figure(figsize=(15,6))\n",
        "sns.countplot(y=\"Location\", data=user_df,order=user_df['Location'].value_counts().index[0:15])\n",
        "plt.title(\"No of readers from each city\")"
      ],
      "execution_count": 71,
      "outputs": [
        {
          "output_type": "execute_result",
          "data": {
            "text/plain": [
              "Text(0.5, 1.0, 'No of readers from each city')"
            ]
          },
          "metadata": {},
          "execution_count": 71
        },
        {
          "output_type": "display_data",
          "data": {
            "image/png": "[encoded data removed]",
            "text/plain": [
              "<Figure size 1440x432 with 1 Axes>"
            ]
          },
          "metadata": {
            "needs_background": "light"
          }
        }
      ]
    },
    {
      "cell_type": "code",
      "metadata": {
        "colab": {
          "base_uri": "https://localhost:8080/",
          "height": 530
        },
        "id": "6GF0-Dc9l9Jq",
        "outputId": "b79ce56c-303b-489c-8083-321b9f95f437"
      },
      "source": [
        "plt.figure(figsize=(15,8))\n",
        "sns.countplot(y=\"Book-Title\", data=total_data, order=total_data['Book-Title'].value_counts().index[0:15])\n",
        "plt.title(\"Number of Ratings for a book\")"
      ],
      "execution_count": 72,
      "outputs": [
        {
          "output_type": "execute_result",
          "data": {
            "text/plain": [
              "Text(0.5, 1.0, 'Number of Ratings for a book')"
            ]
          },
          "metadata": {},
          "execution_count": 72
        },
        {
          "output_type": "display_data",
          "data": {
            "image/png": "[encoded data removed]",
            "text/plain": [
              "<Figure size 1080x576 with 1 Axes>"
            ]
          },
          "metadata": {
            "needs_background": "light"
          }
        }
      ]
    },
    {
      "cell_type": "code",
      "metadata": {
        "id": "ycU-1EI0nGAU"
      },
      "source": [
        ""
      ],
      "execution_count": null,
      "outputs": []
    }
  ]
}